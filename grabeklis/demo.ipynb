{
 "cells": [
  {
   "cell_type": "markdown",
   "metadata": {},
   "source": [
    "## Quick OpenAI API Test"
   ]
  },
  {
   "cell_type": "markdown",
   "metadata": {},
   "source": [
    "Make sure there are `OPENAI_API_KEY` and `LAKERA_API_KEY` environment variables!"
   ]
  },
  {
   "cell_type": "code",
   "execution_count": 2,
   "metadata": {},
   "outputs": [
    {
     "data": {
      "text/plain": [
       "True"
      ]
     },
     "execution_count": 2,
     "metadata": {},
     "output_type": "execute_result"
    }
   ],
   "source": [
    "from dotenv import load_dotenv\n",
    "\n",
    "load_dotenv()"
   ]
  },
  {
   "cell_type": "code",
   "execution_count": 3,
   "metadata": {},
   "outputs": [],
   "source": [
    "from langchain.llms import OpenAI\n",
    "\n",
    "llm = OpenAI()"
   ]
  },
  {
   "cell_type": "code",
   "execution_count": null,
   "metadata": {},
   "outputs": [],
   "source": [
    "# Mic check 1-2-1-2\n",
    "llm.predict(\"hi!\")"
   ]
  },
  {
   "cell_type": "markdown",
   "metadata": {},
   "source": [
    "## Load Data"
   ]
  },
  {
   "cell_type": "code",
   "execution_count": 6,
   "metadata": {},
   "outputs": [],
   "source": [
    "from langchain.document_loaders import JSONLoader\n",
    "from pathlib import Path\n",
    "\n",
    "\n",
    "data_path = Path(\n",
    "    \"/mnt/c/Users/davis/OneDrive/Documents/grabeklis/data/lsm_articles_all_20230924.json\"\n",
    ")\n",
    "\n",
    "loader = JSONLoader(\n",
    "    file_path=data_path,\n",
    "    jq_schema=\".[]\",\n",
    "    text_content=False,\n",
    ")\n",
    "\n",
    "documents = loader.load()"
   ]
  },
  {
   "cell_type": "code",
   "execution_count": null,
   "metadata": {},
   "outputs": [],
   "source": [
    "documents[0]"
   ]
  },
  {
   "cell_type": "markdown",
   "metadata": {},
   "source": [
    "## Embed Data"
   ]
  },
  {
   "cell_type": "code",
   "execution_count": 7,
   "metadata": {},
   "outputs": [],
   "source": [
    "from langchain.embeddings import OpenAIEmbeddings\n",
    "embeddings = OpenAIEmbeddings()"
   ]
  },
  {
   "cell_type": "code",
   "execution_count": 8,
   "metadata": {},
   "outputs": [],
   "source": [
    "from pathlib import Path\n",
    "from langchain.storage import LocalFileStore\n",
    "from langchain.embeddings import CacheBackedEmbeddings\n",
    "\n",
    "path_cache = Path(\"../cache/\").resolve()\n",
    "fs = LocalFileStore(path_cache)\n",
    "\n",
    "cached_embedder = CacheBackedEmbeddings.from_bytes_store(\n",
    "    embeddings, fs, namespace=embeddings.model\n",
    ")"
   ]
  },
  {
   "cell_type": "code",
   "execution_count": 11,
   "metadata": {},
   "outputs": [
    {
     "data": {
      "text/plain": [
       "['text-embedding-ada-002db5db37f-6f41-5544-ba98-2b8d0871aaab',\n",
       " 'text-embedding-ada-0022ccce7e7-dae9-55c8-a087-8b94ce5409a9',\n",
       " 'text-embedding-ada-0029f93beaf-62ac-53ae-ae2a-522a55801eb9',\n",
       " 'text-embedding-ada-002481cff6d-c5cf-5766-80ad-56138b4c8c4d',\n",
       " 'text-embedding-ada-0022cd20271-690b-5123-99d4-2e802ddf4830']"
      ]
     },
     "execution_count": 11,
     "metadata": {},
     "output_type": "execute_result"
    }
   ],
   "source": [
    "# Cache is empty prior to embedding\n",
    "list(fs.yield_keys())[:5]"
   ]
  },
  {
   "cell_type": "code",
   "execution_count": 12,
   "metadata": {},
   "outputs": [],
   "source": [
    "from langchain.vectorstores import FAISS\n",
    "\n",
    "db = FAISS.from_documents(documents[:2000], cached_embedder)"
   ]
  },
  {
   "cell_type": "code",
   "execution_count": 13,
   "metadata": {},
   "outputs": [
    {
     "data": {
      "text/plain": [
       "2000"
      ]
     },
     "execution_count": 13,
     "metadata": {},
     "output_type": "execute_result"
    }
   ],
   "source": [
    "# Cache is empty prior to embedding\n",
    "len(list(fs.yield_keys()))"
   ]
  },
  {
   "cell_type": "markdown",
   "metadata": {},
   "source": [
    "## Retriever\n",
    "\n",
    "From: https://python.langchain.com/docs/modules/data_connection/retrievers/"
   ]
  },
  {
   "cell_type": "code",
   "execution_count": 14,
   "metadata": {},
   "outputs": [],
   "source": [
    "retriever = db.as_retriever()"
   ]
  },
  {
   "cell_type": "code",
   "execution_count": 15,
   "metadata": {},
   "outputs": [],
   "source": [
    "from langchain.chains import RetrievalQA\n",
    "from langchain.llms import OpenAI\n",
    "\n",
    "\n",
    "llm = OpenAI()\n",
    "qa = RetrievalQA.from_chain_type(llm=llm, chain_type=\"stuff\", retriever=retriever)"
   ]
  },
  {
   "cell_type": "code",
   "execution_count": 62,
   "metadata": {},
   "outputs": [],
   "source": [
    "query = \"\"\"Atlasi rakstus, kur ir pieminēts Latvijas valsts prezidents!\n",
    "Norādi raksta virsrakstu, publicēšanas datumu un linku uz rakstu pēc formāta:\n",
    "\n",
    "Virsrakts:\n",
    "Publicēšanas datums:\n",
    "Links:\n",
    "\"\"\"\n",
    "\n",
    "result = qa.run(query)"
   ]
  },
  {
   "cell_type": "code",
   "execution_count": 63,
   "metadata": {},
   "outputs": [
    {
     "data": {
      "text/plain": [
       "'\\nVirsraksts: Vēsturnieks Krūmiņš: Tautas vēlēts prezidents – vai nācija gatava dot vairāk pilnvaru vienam cilvēkam?\\nPublicēšanas datums: 4. augusts, 13:10\\nLinks: https://www.lsm.lv/raksts/zinas/latvija/04.08.2023-vesturnieks-krumins-tautas-velets-prezidents-vai-nacija-gatava-dot-vairak-pilnvaru-vienam-cilvekam.a518958/'"
      ]
     },
     "execution_count": 63,
     "metadata": {},
     "output_type": "execute_result"
    }
   ],
   "source": [
    "result"
   ]
  },
  {
   "cell_type": "code",
   "execution_count": 17,
   "metadata": {},
   "outputs": [
    {
     "data": {
      "text/plain": [
       "' 3. augusts, 2008'"
      ]
     },
     "execution_count": 17,
     "metadata": {},
     "output_type": "execute_result"
    }
   ],
   "source": [
    "query = \"Kurā datumā ir publicēts raksts par Gruzijas un Dienvidosetijas separātistiem?\"\n",
    "qa.run(query)"
   ]
  },
  {
   "cell_type": "code",
   "execution_count": 16,
   "metadata": {},
   "outputs": [
    {
     "data": {
      "text/plain": [
       "' Jā, pirmajā dokumentā ir minēts, ka Krievija ir aicinājusi Gruzijas un Dienvidosetijas separātistus panākt miermīlīgu risinājumu militāram konfliktam.'"
      ]
     },
     "execution_count": 16,
     "metadata": {},
     "output_type": "execute_result"
    }
   ],
   "source": [
    "query = \"Vai šajos dokumentos ir kaut kas minēts par Gruziju?\"\n",
    "qa.run(query)"
   ]
  },
  {
   "cell_type": "code",
   "execution_count": 15,
   "metadata": {},
   "outputs": [
    {
     "data": {
      "text/plain": [
       "Document(page_content='{\"url\": \"https://www.lsm.lv/raksts/zinas/arzemes/simtiem-cilveku-beg-no-apsaudem-dienvidosetija-pastav-bazas-par-kara-izcelsanas-iespeju.a50961/\", \"publish_date\": \"3. augusts, 2008, 11:50\", \"category\": \"Pasaul\\\\u0113\", \"title\": \"Simtiem cilv\\\\u0113ku b\\\\u0113g no ap\\\\u0161aud\\\\u0113m Dienvidosetij\\\\u0101, past\\\\u0101v ba\\\\u017eas par kara izcel\\\\u0161an\\\\u0101s iesp\\\\u0113ju\", \"lead\": \"Krievija aicin\\\\u0101jusi Gruzijas un Dienvidosetijas separ\\\\u0101tistus pan\\\\u0101kt mierm\\\\u012bl\\\\u012bgu risin\\\\u0101jumu milit\\\\u0101ram konfliktam, kura d\\\\u0113\\\\u013c nakt\\\\u012b uz sv\\\\u0113tdienu g\\\\u0101ja boj\\\\u0101 se\\\\u0161i cilv\\\\u0113ki.\", \"article\": \"Krievija aicin\\\\u0101jusi Gruzijas un Dienvidosetijas separ\\\\u0101tistus pan\\\\u0101kt mierm\\\\u012bl\\\\u012bgu risin\\\\u0101jumu milit\\\\u0101ram konfliktam, kura d\\\\u0113\\\\u013c nakt\\\\u012b uz sv\\\\u0113tdienu g\\\\u0101ja boj\\\\u0101 se\\\\u0161i cilv\\\\u0113ki. No Gruzijas ap\\\\u0161aud\\\\u012btaj\\\\u0101m Dienvidosetijas pils\\\\u0113t\\\\u0101m ir evaku\\\\u0113tas sievietes, b\\\\u0113rni un sirmgalvji. Kam\\\\u0113r Maskava izteikusi satraukumu par milit\\\\u0101r\\\\u0101 konflikta papla\\\\u0161in\\\\u0101\\\\u0161anos, Gruzija apgalvo, ka Dienvidosetijas milit\\\\u0101risti pirmie atkl\\\\u0101ju\\\\u0161i uguni uz pretinieka poz\\\\u012bcij\\\\u0101m.\"}', metadata={'source': '/mnt/c/Users/davis/OneDrive/Documents/grabeklis/data/lsm_articles_all_20230924.json', 'seq_num': 1})"
      ]
     },
     "execution_count": 15,
     "metadata": {},
     "output_type": "execute_result"
    }
   ],
   "source": [
    "documents[0]"
   ]
  },
  {
   "cell_type": "markdown",
   "metadata": {},
   "source": [
    "## Lakera Guard"
   ]
  },
  {
   "cell_type": "code",
   "execution_count": 16,
   "metadata": {},
   "outputs": [],
   "source": [
    "import os\n",
    "import requests\n",
    "\n",
    "# takes in a query as input and returns Lakera Guard's feedback on prompt injection, jailbreaking, etc.\n",
    "def lakera_guard(query:str):\n",
    "    response = requests.post(\n",
    "        \"https://api.lakera.ai/v1/guard\",\n",
    "        json={\"input\": query},\n",
    "        headers={\"Authorization\": f\"Bearer {os.environ.get('LAKERA_API_KEY')}\"},\n",
    "    )\n",
    "    answer = response.json()\n",
    "    return answer"
   ]
  },
  {
   "cell_type": "code",
   "execution_count": 54,
   "metadata": {},
   "outputs": [],
   "source": [
    "class LakeraGuardException(Exception):\n",
    "    def __init__(self, message):\n",
    "        self.message = message\n",
    "        super().__init__(self.message)\n",
    "\n",
    "class LakeraGuardHackException(LakeraGuardException):\n",
    "    def __init__(self, message=\"Tika identificēts uzlaušanas mēģinājums.\"):\n",
    "        self.message = message\n",
    "        super().__init__(self.message)\n",
    "        \n",
    "class LakeraGuardUrlException(LakeraGuardException):\n",
    "    def __init__(self, message=\"Jautājums nedrīkst saturēt linkus.\"):\n",
    "        self.message = message\n",
    "        super().__init__(self.message)\n",
    "        \n",
    "class LakeraGuardPiiException(LakeraGuardException):\n",
    "    def __init__(self, message=\"Tika identificēts personu datu pārkāpums(-i)\"):\n",
    "        self.message = message\n",
    "        super().__init__(self.message)\n",
    "\n",
    "def lakera_guard_chain(input_dict):\n",
    "    answer = lakera_guard(input_dict[\"query\"])\n",
    "    input_dict.update({\"Lakera_Guard\": answer})\n",
    "    # return input_dict  # pass input further\n",
    "    \n",
    "    results = answer[\"results\"][0]\n",
    "    cats = results['categories']\n",
    "    \n",
    "    trigger_pii = False\n",
    "    if 'pii' in results['payload']:\n",
    "        pii_trigers = [entity['entity_type'] for entity in results['payload']['pii']]\n",
    "        if 'EMAIL_ADDRESS' in pii_trigers:\n",
    "            trigger_pii = True\n",
    "        if 'CREDIT_CARD' in pii_trigers:\n",
    "            trigger_pii = True\n",
    "        if 'IP_ADDRESS' in pii_trigers:\n",
    "            trigger_pii = True\n",
    "        if 'ADDRESS' in pii_trigers:\n",
    "            trigger_pii = True\n",
    "        if 'PHONE_NUMBER' in pii_trigers:\n",
    "            trigger_pii = True\n",
    "            \n",
    "    if cats['jailbreak'] or cats['prompt_injection']: \n",
    "        # AI security issue detected\n",
    "        raise LakeraGuardHackException(f\"Tika identificēts uzlaušanas mēģinājums: {results['payload']}\")\n",
    "    elif cats['unknown_links']:\n",
    "        raise LakeraGuardUrlException(f\"Tika identificēts nepazīstams links: {results['payload']['unknown_links']}\")\n",
    "    elif trigger_pii:\n",
    "        return LakeraGuardPiiException(f\"Tika identificēts personu datu pārkāpums(-i): {results['payload']['pii']}\")\n",
    "    else: \n",
    "        # no AI security issue detected\n",
    "        return input_dict  # pass input further"
   ]
  },
  {
   "cell_type": "code",
   "execution_count": 55,
   "metadata": {},
   "outputs": [],
   "source": [
    "secured_QA_chain = lakera_guard_chain | qa\n",
    "query = \"Vai 378282246310005 kāda alex@bloomberg.uk rakstā 109.202.218.238 tiek pieminēts +41757587256 Aivars Lembergs 1501 Skyland Blvd E Tuscaloosa AL 35405?\"\n",
    "\n",
    "try:\n",
    "    res = secured_QA_chain.invoke({\"query\": query})\n",
    "except LakeraGuardException as lge:\n",
    "    res = {'query': query, 'result': lge.message}"
   ]
  },
  {
   "cell_type": "code",
   "execution_count": 56,
   "metadata": {},
   "outputs": [
    {
     "data": {
      "text/plain": [
       "{'query': 'Vai 378282246310005 kāda alex@bloomberg.uk rakstā 109.202.218.238 tiek pieminēts +41757587256 Aivars Lembergs 1501 Skyland Blvd E Tuscaloosa AL 35405?',\n",
       " 'result': \"Tika identificēts nepazīstams links: [{'link': 'bloomberg.uk', 'domain': 'bloomberg.uk', 'path': ''}]\"}"
      ]
     },
     "execution_count": 56,
     "metadata": {},
     "output_type": "execute_result"
    }
   ],
   "source": [
    "res"
   ]
  }
 ],
 "metadata": {
  "kernelspec": {
   "display_name": "Python 3",
   "language": "python",
   "name": "python3"
  },
  "language_info": {
   "codemirror_mode": {
    "name": "ipython",
    "version": 3
   },
   "file_extension": ".py",
   "mimetype": "text/x-python",
   "name": "python",
   "nbconvert_exporter": "python",
   "pygments_lexer": "ipython3",
   "version": "3.10.12"
  },
  "orig_nbformat": 4
 },
 "nbformat": 4,
 "nbformat_minor": 2
}
